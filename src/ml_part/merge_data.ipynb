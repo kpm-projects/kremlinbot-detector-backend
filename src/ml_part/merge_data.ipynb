{
 "cells": [
  {
   "cell_type": "code",
   "execution_count": null,
   "metadata": {
    "collapsed": true
   },
   "outputs": [],
   "source": [
    "!pip install pandarallel\n",
    "\n",
    "import pandas as pd\n",
    "import csv\n",
    "\n",
    "from google.colab import drive\n",
    "drive.mount('/content/drive')\n",
    "\n",
    "%cd /content/drive/My\\ Drive/SNA2020/Project_kremlinbots\n",
    "\n",
    "df_bots_pymorphy_nltk_stopwords_badwords=pd.read_csv('./bots_pymorphy_nltk-stopwords_badwords.tsv',sep=\"\\t\",header=0)\n",
    "df_politics_pymorphy_nltk_stopwords_badwords=pd.read_csv('./politics_pymorphy_nltk-stopwords_badwords.tsv',sep=\"\\t\",header=0)\n",
    "df_all_pymorphy_nltk_stopwords_badwords=df_bots_pymorphy_nltk_stopwords_badwords.append(df_politics_pymorphy_nltk_stopwords_badwords, ignore_index = True)\n",
    "df_all_pymorphy_nltk_stopwords_badwords.to_csv('all_pymorphy_nltk-stopwords_badwords.tsv',sep='\\t', quoting=csv.QUOTE_NONE, index=False)\n",
    "\n",
    "df_bots_pymorphy_github_stopwords_badwords=pd.read_csv('./bots_pymorphy_github-stopwords_badwords.tsv',sep=\"\\t\",header=0)\n",
    "df_politics_pymorphy_github_stopwords_badwords=pd.read_csv('./politics_pymorphy_github-stopwords_badwords.tsv',sep=\"\\t\",header=0)\n",
    "df_all_pymorphy_github_stopwords_badwords=df_bots_pymorphy_github_stopwords_badwords.append(df_politics_pymorphy_github_stopwords_badwords, ignore_index = True)\n",
    "df_all_pymorphy_github_stopwords_badwords.to_csv('all_pymorphy_github-stopwords_badwords.tsv',sep='\\t', quoting=csv.QUOTE_NONE, index=False)\n",
    "\n",
    "df_bots_pymorphy_nltk_stopwords_github_stopwords_badwords=pd.read_csv('./bots_pymorphy_nltk-stopwords_github-stopwords_badwords.tsv',sep=\"\\t\",header=0)\n",
    "df_politics_pymorphy_nltk_stopwords_github_stopwords_badwords=pd.read_csv('./politics_pymorphy_nltk-stopwords_github-stopwords_badwords.tsv',sep=\"\\t\",header=0)\n",
    "df_all_pymorphy_nltk_stopwords_github_stopwords_badwords=df_bots_pymorphy_nltk_stopwords_github_stopwords_badwords.append(df_politics_pymorphy_nltk_stopwords_github_stopwords_badwords, ignore_index = True)\n",
    "df_all_pymorphy_nltk_stopwords_github_stopwords_badwords.to_csv('all_pymorphy_nltk-stopwords_github-stopwords_badwords.tsv',sep='\\t', quoting=csv.QUOTE_NONE, index=False)\n",
    "\n",
    "\n",
    "df_bots_mystem_nltk_stopwords_badwords=pd.read_csv('./bots_mystem_nltk-stopwords_badwords.tsv',sep=\"\\t\",header=0)\n",
    "df_politics_mystem_nltk_stopwords_badwords=pd.read_csv('./politics_mystem_nltk-stopwords_badwords.tsv',sep=\"\\t\",header=0)\n",
    "df_all_mystem_nltk_stopwords_badwords=df_bots_mystem_nltk_stopwords_badwords.append(df_politics_mystem_nltk_stopwords_badwords, ignore_index = True)\n",
    "df_all_mystem_nltk_stopwords_badwords.to_csv('all_mystem_nltk-stopwords_badwords.tsv',sep='\\t', quoting=csv.QUOTE_NONE, index=False)\n",
    "\n",
    "df_bots_mystem_github_stopwords_badwords=pd.read_csv('./bots_mystem_github-stopwords_badwords.tsv',sep=\"\\t\",header=0)\n",
    "df_politics_mystem_github_stopwords_badwords=pd.read_csv('./politics_mystem_github-stopwords_badwords.tsv',sep=\"\\t\",header=0)\n",
    "df_all_mystem_github_stopwords_badwords=df_bots_mystem_github_stopwords_badwords.append(df_politics_mystem_github_stopwords_badwords, ignore_index = True)\n",
    "df_all_mystem_github_stopwords_badwords.to_csv('all_mystem_github-stopwords_badwords.tsv',sep='\\t', quoting=csv.QUOTE_NONE, index=False)\n",
    "\n",
    "df_bots_mystem_nltk_stopwords_github_stopwords_badwords=pd.read_csv('./bots_mystem_nltk-stopwords_github-stopwords_badwords.tsv',sep=\"\\t\",header=0)\n",
    "df_politics_mystem_nltk_stopwords_github_stopwords_badwords=pd.read_csv('./politics_mystem_nltk-stopwords_github-stopwords_badwords.tsv',sep=\"\\t\",header=0)\n",
    "df_all_mystem_nltk_stopwords_github_stopwords_badwords=df_bots_mystem_nltk_stopwords_github_stopwords_badwords.append(df_politics_mystem_nltk_stopwords_github_stopwords_badwords, ignore_index = True)\n",
    "df_all_mystem_nltk_stopwords_github_stopwords_badwords.to_csv('all_mystem_nltk-stopwords_github-stopwords_badwords.tsv',sep='\\t', quoting=csv.QUOTE_NONE, index=False)\n",
    "\n",
    "\n"
   ]
  }
 ],
 "metadata": {
  "kernelspec": {
   "display_name": "Python 3",
   "language": "python",
   "name": "python3"
  },
  "language_info": {
   "codemirror_mode": {
    "name": "ipython",
    "version": 2
   },
   "file_extension": ".py",
   "mimetype": "text/x-python",
   "name": "python",
   "nbconvert_exporter": "python",
   "pygments_lexer": "ipython2",
   "version": "2.7.6"
  },
  "pycharm": {
   "stem_cell": {
    "cell_type": "raw",
    "source": [],
    "metadata": {
     "collapsed": false
    }
   }
  }
 },
 "nbformat": 4,
 "nbformat_minor": 0
}