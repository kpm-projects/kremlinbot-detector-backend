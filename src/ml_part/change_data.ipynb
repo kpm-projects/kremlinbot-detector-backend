{
 "cells": [
  {
   "cell_type": "code",
   "execution_count": null,
   "metadata": {
    "collapsed": true
   },
   "outputs": [],
   "source": [
    "import pandas as pd\n",
    "import csv\n",
    "import numpy as np\n",
    "\n",
    "\n",
    "from google.colab import drive\n",
    "drive.mount('/content/drive')\n",
    "\n",
    "\n",
    "%cd /content/drive/My\\ Drive/SNA2020/Project\n",
    "\n",
    "df_bots=pd.read_csv('./bots.tsv',sep=\"\\t\",header=0)\n",
    "df_bots.head()\n",
    "\n",
    "df_politics=pd.read_csv('./politics.tsv',sep=\"\\t\",header=0)\n",
    "df_politics.head()\n",
    "\n",
    "def change_data(changed_df):\n",
    "  for index, row1 in changed_df[['reg_date']].iterrows():\n",
    "    dates = pd.to_datetime(changed_df.loc[index, 'reg_date'])\n",
    "    # changed_df.loc[index, 'reg_date'] = ((dates - pd.Timestamp(\"1970-01-01\")) // pd.Timedelta('1s'))\n",
    "    changed_df.loc[index, 'reg_date'] = ((dates - pd.Timestamp(\"1970-01-01T\")) // pd.Timedelta('1s'))\n",
    "  changed_df['reg_date'] = pd.to_numeric(changed_df['reg_date'])\n",
    "  return changed_df\n",
    "\n",
    "def change_has_media(changed_df):\n",
    "  return changed_df.replace({True:1,False:0})\n",
    "\n",
    "# df_bots = change_has_media(df_bots)\n",
    "# df_bots = change_data(df_bots)\n",
    "# print(df_bots.dtypes)\n",
    "# df_bots.to_csv('bots_update.tsv',sep='\\t', quoting=csv.QUOTE_NONE) \n",
    "\n",
    "df_politics['reg_date'] = pd.to_datetime(df_politics['reg_date']).dt.tz_convert(None)\n",
    "df_politics = df_politics[875:]\n",
    "df_politics = change_has_media(df_politics)\n",
    "df_politics = change_data(df_politics)\n",
    "print(df_politics.dtypes)\n",
    "print(df_politics)\n",
    "df_politics['text'].replace('', np.nan, inplace=True)\n",
    "df_politics['text'].replace('\\t', np.nan, inplace=True)\n",
    "df_politics = df_politics.dropna()\n",
    "df_politics.to_csv('politics_update.tsv',sep='\\t', quoting=csv.QUOTE_NONE)\n",
    "# df_politics\n"
   ]
  }
 ],
 "metadata": {
  "kernelspec": {
   "display_name": "Python 3",
   "language": "python",
   "name": "python3"
  },
  "language_info": {
   "codemirror_mode": {
    "name": "ipython",
    "version": 2
   },
   "file_extension": ".py",
   "mimetype": "text/x-python",
   "name": "python",
   "nbconvert_exporter": "python",
   "pygments_lexer": "ipython2",
   "version": "2.7.6"
  },
  "pycharm": {
   "stem_cell": {
    "cell_type": "raw",
    "source": [],
    "metadata": {
     "collapsed": false
    }
   }
  }
 },
 "nbformat": 4,
 "nbformat_minor": 0
}