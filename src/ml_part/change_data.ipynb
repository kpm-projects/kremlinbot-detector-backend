{
 "cells": [
  {
   "cell_type": "code",
   "execution_count": null,
   "outputs": [],
   "source": [
    "import pandas as pd\n",
    "import csv\n",
    "import numpy as np\n",
    "\n",
    "\n",
    "from google.colab import drive\n",
    "drive.mount('/content/drive')\n",
    "\n",
    "\n",
    "%cd /content/drive/My\\ Drive/SNA2020/Project_kremlinbots\n",
    "\n",
    "df_bots=pd.read_csv('./bots.tsv',sep=\"\\t\",header=0)\n",
    "df_bots.head()\n",
    "\n",
    "df_politics=pd.read_csv('./politicians.tsv',sep=\"\\t\",header=0)\n",
    "df_politics.head()\n",
    "\n",
    "def change_all_bool_data(changed_df):\n",
    "  return changed_df.replace({True:1,False:0})\n",
    "\n",
    "\n",
    "\n",
    "df_bots = change_all_bool_data(df_bots)\n",
    "df_bots.to_csv('bots_update.tsv',sep='\\t', quoting=csv.QUOTE_NONE, index=False) \n",
    "\n",
    "\n",
    "df_politics = change_all_bool_data(df_politics)\n",
    "df_politics.to_csv('politics_update.tsv',sep='\\t', quoting=csv.QUOTE_NONE, index= False)\n",
    "\n",
    "\n"
   ],
   "metadata": {
    "collapsed": false,
    "pycharm": {
     "name": "#%%\n"
    }
   }
  }
 ],
 "metadata": {
  "kernelspec": {
   "display_name": "Python 3",
   "language": "python",
   "name": "python3"
  },
  "language_info": {
   "codemirror_mode": {
    "name": "ipython",
    "version": 2
   },
   "file_extension": ".py",
   "mimetype": "text/x-python",
   "name": "python",
   "nbconvert_exporter": "python",
   "pygments_lexer": "ipython2",
   "version": "2.7.6"
  },
  "pycharm": {
   "stem_cell": {
    "cell_type": "raw",
    "source": [],
    "metadata": {
     "collapsed": false
    }
   }
  }
 },
 "nbformat": 4,
 "nbformat_minor": 0
}